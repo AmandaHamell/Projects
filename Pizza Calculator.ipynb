{
 "cells": [
  {
   "cell_type": "code",
   "execution_count": null,
   "id": "5e212f1f",
   "metadata": {},
   "outputs": [],
   "source": [
    "#input information\n",
    "name = input(\"Enter you name: \")\n",
    "\n",
    "a_size = int(input(\"Enter the first pizza's size in inches: \"))\n",
    "\n",
    "a_price = int(input(\"Enter the first pizza's price: \"))\n",
    "\n",
    "b_size = int(input(\"Enter the second pizza's size in inches: \"))\n",
    "\n",
    "b_price = int(input(\"Enter the second pizza's price: \"))\n",
    "\n",
    "#calculations for pizza size and price\n",
    "import math\n",
    "\n",
    "a_radius = (a_size / 2)\n",
    "a_area = (math.pi * a_radius * a_radius)\n",
    "a_price_inch = round(a_price / a_area, 2)\n",
    "\n",
    "print(\"Price per inch on first pizza = ${:.2f}\".format(a_price_inch))\n",
    "\n",
    "b_radius = (b_size / 2)\n",
    "b_area = (math.pi * b_radius * b_radius) \n",
    "b_price_inch = round(b_price / b_area, 2)\n",
    "\n",
    "print(\"Price per inch on second pizza = ${:.2f}\".format(b_price_inch))\n",
    "\n",
    "#output\n",
    "if a_price_inch > 0 and b_price_inch > 0:\n",
    "    if a_price_inch < b_price_inch:\n",
    "        print(name +\", your first pizza is a better deal.\")\n",
    "    elif (a_price_inch > b_price_inch):\n",
    "        print(name +\", your second pizza is a better deal.\")\n",
    "    elif (a_price_inch == b_price_inch):\n",
    "        print(name +\", your pizzas are both the same price\")\n",
    "    else:\n",
    "        print(name +\", it isn't working\")\n",
    "else:\n",
    "    print(\"Enter valid input\")"
   ]
  }
 ],
 "metadata": {
  "kernelspec": {
   "display_name": "Python 3 (ipykernel)",
   "language": "python",
   "name": "python3"
  },
  "language_info": {
   "codemirror_mode": {
    "name": "ipython",
    "version": 3
   },
   "file_extension": ".py",
   "mimetype": "text/x-python",
   "name": "python",
   "nbconvert_exporter": "python",
   "pygments_lexer": "ipython3",
   "version": "3.9.13"
  }
 },
 "nbformat": 4,
 "nbformat_minor": 5
}
